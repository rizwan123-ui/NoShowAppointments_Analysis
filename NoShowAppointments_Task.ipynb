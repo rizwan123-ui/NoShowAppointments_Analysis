{
 "cells": [
  {
   "cell_type": "code",
   "execution_count": 2,
   "id": "fb585a74-7953-410a-8715-4f74066c3fd8",
   "metadata": {},
   "outputs": [
    {
     "name": "stdout",
     "output_type": "stream",
     "text": [
      "Sample CSV file 'sample_appointments.csv' created successfully!\n"
     ]
    }
   ],
   "source": [
    "import pandas as pd\n",
    "\n",
    "# Step 1: Sample data dictionary\n",
    "data = {\n",
    "    \"PatientId\": [1, 2, 3, 4, 5],\n",
    "    \"Gender\": [\"F\", \"M\", \"F\", \"M\", \"F\"],\n",
    "    \"Age\": [25, 30, 45, 60, 12],\n",
    "    \"ScheduledDay\": [\"2025-08-01\", \"2025-08-02\", \"2025-08-03\", \"2025-08-04\", \"2025-08-05\"],\n",
    "    \"AppointmentDay\": [\"2025-08-05\", \"2025-08-06\", \"2025-08-07\", \"2025-08-08\", \"2025-08-09\"],\n",
    "    \"Neighbourhood\": [\"A\", \"B\", \"C\", \"A\", \"B\"],\n",
    "    \"No-show\": [\"No\", \"Yes\", \"No\", \"Yes\", \"No\"]\n",
    "}\n",
    "\n",
    "# Step 2: Create DataFrame\n",
    "df = pd.DataFrame(data)\n",
    "\n",
    "# Step 3: Save as CSV\n",
    "df.to_csv(\"sample_appointments.csv\", index=False)\n",
    "print(\"Sample CSV file 'sample_appointments.csv' created successfully!\")\n"
   ]
  },
  {
   "cell_type": "code",
   "execution_count": null,
   "id": "aeba1dbd-1c34-4cb3-b8ab-3acf32e5458a",
   "metadata": {},
   "outputs": [],
   "source": []
  }
 ],
 "metadata": {
  "kernelspec": {
   "display_name": "Python 3 (ipykernel)",
   "language": "python",
   "name": "python3"
  },
  "language_info": {
   "codemirror_mode": {
    "name": "ipython",
    "version": 3
   },
   "file_extension": ".py",
   "mimetype": "text/x-python",
   "name": "python",
   "nbconvert_exporter": "python",
   "pygments_lexer": "ipython3",
   "version": "3.13.5"
  }
 },
 "nbformat": 4,
 "nbformat_minor": 5
}
